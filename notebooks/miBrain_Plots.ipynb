{
 "cells": [
  {
   "cell_type": "markdown",
   "id": "0749dc43-4dab-4a54-abd6-c1d731d280c8",
   "metadata": {},
   "source": [
    "# miBrain Plotting analysis"
   ]
  },
  {
   "cell_type": "markdown",
   "id": "818784b8-0e07-41c7-a366-b1276fe9828c",
   "metadata": {},
   "source": [
    "### Assuming XLSX DEGs are in \"miBrain\" directory, load the files:"
   ]
  },
  {
   "cell_type": "code",
   "execution_count": null,
   "id": "5a02b9bc-8ef7-49f7-ad89-16722ef239c4",
   "metadata": {
    "scrolled": true
   },
   "outputs": [],
   "source": [
    "library(miBrain)\n",
    "set_ht_opt(2)\n",
    "dl = lapply(list.files(\"miBrain\",\n",
    "                       pattern=\"^[A-Za-z]+[.]xlsx$\", \n",
    "                       full.names=TRUE), \n",
    "            deg_load)\n",
    "names(dl) = sapply(dl, function(obj) { obj@metadata$comparison })\n",
    "dl"
   ]
  },
  {
   "cell_type": "markdown",
   "id": "2fda3426-c20d-40e5-b75d-548ebada2f19",
   "metadata": {},
   "source": [
    "### Calculate DEG heatmaps, volcano plots, DEG heatmaps:"
   ]
  },
  {
   "cell_type": "code",
   "execution_count": null,
   "id": "d821833a-0df4-47f3-b1fa-a835c263c1dd",
   "metadata": {},
   "outputs": [],
   "source": [
    "library(patchwork)\n",
    "g=Reduce(\"+\", lapply(dl, function(se) {\n",
    "    ct = S4Vectors::metadata(se)$comparison\n",
    "    column_title = paste0(\"Top DEGs in \", ct)\n",
    "    dir.create(paste0(\"miBrain/byct/\", ct), recursive=TRUE)\n",
    "    se = se_tmm(se, log=TRUE)\n",
    "    cd = as.data.frame(SummarizedExperiment::colData(se))\n",
    "    mono = setdiff(1:nrow(cd), grep(\"miBrain\", cd$group))\n",
    "    cd$group = gsub(\"^mono \", \"\", cd$group)\n",
    "    cd$group[mono] = paste0(\"monoculture \", cd$group[-grep(\"miBrain\", cd$group)])\n",
    "    se$group = cd$group\n",
    "    se = se[,order(se$group)]\n",
    "    H = gene_heatmap(se, column_title=gsub(\"[.][0-9]+$\", \"\", column_title))\n",
    "    #H = H + ComplexHeatmap::rowAnnotation(counts=ComplexHeatmap::anno_barplot(colSums(SummarizedExperiment::assays(se)$counts)))\n",
    "    saveHeatmap(H, paste0(\"miBrain/byct/\", ct, \"/heatmaps_deg\"))\n",
    "    g = PlotPCA(se)\n",
    "    saveGGplot(g, paste0(\"miBrain/byct/\", ct, \"/pca\"), w=3, h=3)\n",
    "    g = volcano(S4Vectors::metadata(se)$deg, title=paste0(\"DEGs in \", ct))\n",
    "    saveGGplot(g, paste0(\"miBrain/byct/\", ct, \"/volcano\"), w=5, h=5)\n",
    "    return(g)\n",
    "}))\n",
    "\n",
    "g"
   ]
  },
  {
   "cell_type": "markdown",
   "id": "1bf10a55-2540-4b19-a2e9-319948028e5f",
   "metadata": {},
   "source": [
    "### Parsing XLSX gene lists per cell type"
   ]
  },
  {
   "cell_type": "code",
   "execution_count": null,
   "id": "c93e96e2-41c0-4d13-9900-62a5435249f2",
   "metadata": {
    "scrolled": true
   },
   "outputs": [],
   "source": [
    "df = xl_parse_gene_list(system.file(\"extdata\", \"heatmap_genes.xlsx\", package=\"miBrain\"))\n",
    "df"
   ]
  },
  {
   "cell_type": "code",
   "execution_count": null,
   "id": "1ea04342-f9e7-43b8-9c22-844e2234cdd5",
   "metadata": {},
   "outputs": [],
   "source": [
    "sapply(split(df, df$go_name), function(gf) {\n",
    "    ct = unique(gf$celltype)\n",
    "    column_title=head(gf$go_name, 1)\n",
    "    se = se_tmm(dl[[ct]], log=TRUE)\n",
    "    cd = as.data.frame(SummarizedExperiment::colData(se))\n",
    "    mono = setdiff(1:nrow(cd), grep(\"miBrain\", cd$group))\n",
    "    cd$group = gsub(\"^mono \", \"\", cd$group)\n",
    "    cd$group[mono] = paste0(\"monoculture \", cd$group[-grep(\"miBrain\", cd$group)])\n",
    "    se$group = cd$group\n",
    "    se = se[,order(se$group)]\n",
    "    H = gene_heatmap(se, gene=gf$gene, column_title=gsub(\"[.][0-9]+$\", \"\", column_title))\n",
    "    saveHeatmap(H, paste0(\"miBrain/byct/\", ct, \"/\", column_title))\n",
    "})"
   ]
  },
  {
   "cell_type": "code",
   "execution_count": null,
   "id": "df6e118c-15a7-40cd-9679-43faaa8e0bb7",
   "metadata": {},
   "outputs": [],
   "source": []
  }
 ],
 "metadata": {
  "kernelspec": {
   "display_name": "R",
   "language": "R",
   "name": "ir"
  },
  "language_info": {
   "codemirror_mode": "r",
   "file_extension": ".r",
   "mimetype": "text/x-r-source",
   "name": "R",
   "pygments_lexer": "r",
   "version": "4.2.2"
  }
 },
 "nbformat": 4,
 "nbformat_minor": 5
}
