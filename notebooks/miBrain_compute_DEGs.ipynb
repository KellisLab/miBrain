{
 "cells": [
  {
   "cell_type": "code",
   "execution_count": 1,
   "id": "cb62f0d6-10c8-461a-9f39-51849c0b0fd1",
   "metadata": {},
   "outputs": [
    {
     "name": "stdout",
     "output_type": "stream",
     "text": [
      "[1] \"Using /home/benjames/data/seq//211102Tsa///D21-10370-5448G/featureCounts\"\n",
      "[1] \"Using /home/benjames/data/seq//211102Tsa///D21-10371-5448G/featureCounts\"\n",
      "[1] \"Using /home/benjames/data/seq//211102Tsa///D21-10372-5448G/featureCounts\"\n",
      "[1] \"Using /home/benjames/data/seq//211102Tsa///D21-10373-5448G/featureCounts\"\n",
      "[1] \"Using /home/benjames/data/seq//211102Tsa///D21-10374-5448G/featureCounts\"\n",
      "[1] \"Using /home/benjames/data/seq//211102Tsa///D21-10375-5448G/featureCounts\"\n",
      "[1] \"Using /home/benjames/data/seq//221129Tsa///D22-12828-6079L/featureCounts\"\n",
      "[1] \"Using /home/benjames/data/seq//221129Tsa///D22-12829-6079L/featureCounts\"\n",
      "[1] \"Using /home/benjames/data/seq//221129Tsa///D22-12830-6079L/featureCounts\"\n",
      "[1] \"Using /home/benjames/data/seq//221129Tsa///D22-12831-6079L/featureCounts\"\n",
      "[1] \"Using /home/benjames/data/seq//221129Tsa///D22-12832-6079L/featureCounts\"\n",
      "[1] \"Using /home/benjames/data/seq//221129Tsa///D22-12833-6079L/featureCounts\"\n",
      "[1] \"Using /home/benjames/data/seq//221129Tsa///D22-12834-6079L/featureCounts\"\n",
      "[1] \"Using /home/benjames/data/seq//221129Tsa///D22-12835-6079L/featureCounts\"\n",
      "[1] \"Using /home/benjames/data/seq//221129Tsa///D22-12836-6079L/featureCounts\"\n",
      "[1] \"Using /home/benjames/data/seq//230105Tsa///D23-2113-6114G/featureCounts\"\n",
      "[1] \"Using /home/benjames/data/seq//230105Tsa///D23-2114-6114G/featureCounts\"\n",
      "[1] \"Using /home/benjames/data/seq//230105Tsa///D23-2115-6114G/featureCounts\"\n",
      "[1] \"Using /home/benjames/data/seq//230105Tsa///D23-2116-6114G/featureCounts\"\n",
      "[1] \"Using /home/benjames/data/seq//230105Tsa///D23-2117-6114G/featureCounts\"\n",
      "[1] \"Using /home/benjames/data/seq//230105Tsa///D23-2118-6114G/featureCounts\"\n",
      "[1] \"Using /home/benjames/data/seq//230201Tsa///D23-3039-6140L/featureCounts\"\n",
      "[1] \"Using /home/benjames/data/seq//230201Tsa///D23-3064-6140L/featureCounts\"\n",
      "[1] \"Using /home/benjames/data/seq//230201Tsa///D23-3066-6140L/featureCounts\"\n",
      "[1] \"Using /home/benjames/data/seq//230201Tsa///D23-3067-6140L/featureCounts\"\n",
      "[1] \"Using /home/benjames/data/seq//230201Tsa///D23-3068-6140L/featureCounts\"\n",
      "[1] \"Using /home/benjames/data/seq//230201Tsa///D23-3069-6140L/featureCounts\"\n",
      "[1] \"Using /home/benjames/data/seq//230201Tsa///D23-3070-6140L/featureCounts\"\n",
      "[1] \"Using /home/benjames/data/seq//230201Tsa///D23-3071-6140L/featureCounts\"\n",
      "[1] \"Using /home/benjames/data/seq//230207TsaA///D23-2986-6134G/featureCounts\"\n",
      "[1] \"Using /home/benjames/data/seq//230207TsaA///D23-2987-6134G/featureCounts\"\n",
      "[1] \"Using /home/benjames/data/seq//230207TsaA///D23-2988-6134G/featureCounts\"\n",
      "[1] \"Using /home/benjames/data/seq//230207TsaA///D23-2989-6134G/featureCounts\"\n",
      "[1] \"Using /home/benjames/data/seq//230207TsaA///D23-2990-6134G/featureCounts\"\n",
      "[1] \"Using /home/benjames/data/seq//230207TsaA///D23-2991-6134G/featureCounts\"\n",
      "[1] \"Using /home/benjames/data/seq//230308Tsa///D23-3780-6165G/featureCounts\"\n",
      "[1] \"Using /home/benjames/data/seq//230308Tsa///D23-3781-6165G/featureCounts\"\n",
      "[1] \"Using /home/benjames/data/seq//230308Tsa///D23-3782-6165G/featureCounts\"\n",
      "[1] \"Using /home/benjames/data/seq//230308Tsa///D23-3783-6165G/featureCounts\"\n",
      "[1] \"Using /home/benjames/data/seq//230308Tsa///D23-3784-6165G/featureCounts\"\n",
      "[1] \"Using /home/benjames/data/seq//230308Tsa///D23-3785-6165G/featureCounts\"\n",
      "[1] \"Using /home/benjames/data/seq//230412Tsa///D23-5258-6191G/featureCounts\"\n",
      "[1] \"Using /home/benjames/data/seq//230412Tsa///D23-5259-6191G/featureCounts\"\n",
      "[1] \"Using /home/benjames/data/seq//230412Tsa///D23-5260-6191G/featureCounts\"\n",
      "[1] \"Using /home/benjames/data/seq//230412Tsa///D23-5261-6191G/featureCounts\"\n",
      "[1] \"Using /home/benjames/data/seq//230412Tsa///D23-5262-6191G/featureCounts\"\n",
      "[1] \"Using /home/benjames/data/seq//230412Tsa///D23-5263-6191G/featureCounts\"\n",
      "[1] \"Using /home/benjames/data/seq//230428Tsa///D23-6473-6223L/featureCounts\"\n",
      "[1] \"Using /home/benjames/data/seq//230428Tsa///D23-6474-6223L/featureCounts\"\n",
      "[1] \"Using /home/benjames/data/seq//230428Tsa///D23-6475-6223L/featureCounts\"\n",
      "[1] \"Using /home/benjames/data/seq//230428Tsa///D23-6476-6223L/featureCounts\"\n",
      "[1] \"Using /home/benjames/data/seq//230428Tsa///D23-6477-6223L/featureCounts\"\n",
      "[1] \"Using /home/benjames/data/seq//230428Tsa///D23-6478-6223L/featureCounts\"\n"
     ]
    },
    {
     "data": {
      "text/plain": [
       "class: RangedSummarizedExperiment \n",
       "dim: 62703 53 \n",
       "metadata(0):\n",
       "assays(2): counts RPKM\n",
       "rownames(62703): TSPAN6 TNMD ... ENSG00000291316 TMEM276\n",
       "rowData names(4): gene_id gene_name gene_type gene_length\n",
       "colnames(53): mi1 mi2 ... miBrain neurons B IL miBrain neurons C IL\n",
       "colData names(4): title group batch library_id"
      ]
     },
     "metadata": {},
     "output_type": "display_data"
    }
   ],
   "source": [
    "library(miBrain)\n",
    "se = bulk_aggregate_counts(system.file(\"extdata\", \"miBrain_SampleSheet.csv\", package=\"miBrain\"), \"~/data/seq/\")\n",
    "se"
   ]
  },
  {
   "cell_type": "code",
   "execution_count": 2,
   "id": "ea81fa49-440d-4d84-8835-f976f185d2fb",
   "metadata": {},
   "outputs": [
    {
     "data": {
      "text/plain": [
       "$Astrocyte\n",
       "class: RangedSummarizedExperiment \n",
       "dim: 62703 6 \n",
       "metadata(3): comparison case control\n",
       "assays(3): counts RPKM TMM\n",
       "rownames(62703): TSPAN6 TNMD ... ENSG00000291316 TMEM276\n",
       "rowData names(4): gene_id gene_name gene_type gene_length\n",
       "colnames(6): miBrain astro A miBrain astro B ... mono astro B mono\n",
       "  astro C\n",
       "colData names(4): title group batch library_id\n",
       "\n",
       "$BMEC\n",
       "class: RangedSummarizedExperiment \n",
       "dim: 62703 6 \n",
       "metadata(3): comparison case control\n",
       "assays(3): counts RPKM TMM\n",
       "rownames(62703): TSPAN6 TNMD ... ENSG00000291316 TMEM276\n",
       "rowData names(4): gene_id gene_name gene_type gene_length\n",
       "colnames(6): miBrain A IL miBrain B IL ... endos CD31+ B endos CD31+ C\n",
       "colData names(4): title group batch library_id\n",
       "\n",
       "$Microglia\n",
       "class: RangedSummarizedExperiment \n",
       "dim: 62703 6 \n",
       "metadata(3): comparison case control\n",
       "assays(3): counts RPKM TMM\n",
       "rownames(62703): TSPAN6 TNMD ... ENSG00000291316 TMEM276\n",
       "rowData names(4): gene_id gene_name gene_type gene_length\n",
       "colnames(6): mi1 mi2 ... Mac 2 Mac 3\n",
       "colData names(4): title group batch library_id\n",
       "\n",
       "$Neuron\n",
       "class: RangedSummarizedExperiment \n",
       "dim: 62703 6 \n",
       "metadata(3): comparison case control\n",
       "assays(3): counts RPKM TMM\n",
       "rownames(62703): TSPAN6 TNMD ... ENSG00000291316 TMEM276\n",
       "rowData names(4): gene_id gene_name gene_type gene_length\n",
       "colnames(6): miBrain neurons A IL miBrain neurons B IL ... neurons B IL\n",
       "  neurons C IL\n",
       "colData names(4): title group batch library_id\n",
       "\n",
       "$OPC\n",
       "class: RangedSummarizedExperiment \n",
       "dim: 62703 6 \n",
       "metadata(3): comparison case control\n",
       "assays(3): counts RPKM TMM\n",
       "rownames(62703): TSPAN6 TNMD ... ENSG00000291316 TMEM276\n",
       "rowData names(4): gene_id gene_name gene_type gene_length\n",
       "colnames(6): miBrain OPC A miBrain OPC B ... OPC mono B OPC mono C\n",
       "colData names(4): title group batch library_id\n",
       "\n",
       "$Pericyte\n",
       "class: RangedSummarizedExperiment \n",
       "dim: 62703 6 \n",
       "metadata(3): comparison case control\n",
       "assays(3): counts RPKM TMM\n",
       "rownames(62703): TSPAN6 TNMD ... ENSG00000291316 TMEM276\n",
       "rowData names(4): gene_id gene_name gene_type gene_length\n",
       "colnames(6): miBrain mCh A miBrain mCh B ... per mCh B per mCh C\n",
       "colData names(4): title group batch library_id\n"
      ]
     },
     "metadata": {},
     "output_type": "display_data"
    }
   ],
   "source": [
    "sel = bulk_aggregate_comparison(se, system.file(\"extdata\", \"miBrain_comparison.csv\", package=\"miBrain\"), logTMM=FALSE)\n",
    "sel"
   ]
  },
  {
   "cell_type": "code",
   "execution_count": 3,
   "id": "ca526586-9ce2-4fe3-abaa-d82b9f7d5896",
   "metadata": {},
   "outputs": [
    {
     "name": "stderr",
     "output_type": "stream",
     "text": [
      "Warning message in deg.edger(se, \"group\", se@metadata$case, se@metadata$control, :\n",
      "“Converting group to factor”\n",
      "Removing 26211 rows with all zero counts\n",
      "\n",
      "Warning message in deg.edger(se, \"group\", se@metadata$case, se@metadata$control, :\n",
      "“Converting group to factor”\n",
      "Removing 8563 rows with all zero counts\n",
      "\n",
      "Warning message in deg.edger(se, \"group\", se@metadata$case, se@metadata$control, :\n",
      "“Converting group to factor”\n",
      "Removing 14130 rows with all zero counts\n",
      "\n",
      "Warning message in deg.edger(se, \"group\", se@metadata$case, se@metadata$control, :\n",
      "“Converting group to factor”\n",
      "Removing 21448 rows with all zero counts\n",
      "\n",
      "Warning message in deg.edger(se, \"group\", se@metadata$case, se@metadata$control, :\n",
      "“Converting group to factor”\n",
      "Removing 13526 rows with all zero counts\n",
      "\n",
      "Warning message in deg.edger(se, \"group\", se@metadata$case, se@metadata$control, :\n",
      "“Converting group to factor”\n",
      "Removing 19394 rows with all zero counts\n",
      "\n"
     ]
    },
    {
     "data": {
      "text/html": [
       "<dl>\n",
       "\t<dt>$Astrocyte</dt>\n",
       "\t\t<dd>'/net/bmc-lab6/data/lab/kellis/users/benjames/scratch/miBrain/Astrocyte.xlsx'</dd>\n",
       "\t<dt>$BMEC</dt>\n",
       "\t\t<dd>'/net/bmc-lab6/data/lab/kellis/users/benjames/scratch/miBrain/BMEC.xlsx'</dd>\n",
       "\t<dt>$Microglia</dt>\n",
       "\t\t<dd>'/net/bmc-lab6/data/lab/kellis/users/benjames/scratch/miBrain/Microglia.xlsx'</dd>\n",
       "\t<dt>$Neuron</dt>\n",
       "\t\t<dd>'/net/bmc-lab6/data/lab/kellis/users/benjames/scratch/miBrain/Neuron.xlsx'</dd>\n",
       "\t<dt>$OPC</dt>\n",
       "\t\t<dd>'/net/bmc-lab6/data/lab/kellis/users/benjames/scratch/miBrain/OPC.xlsx'</dd>\n",
       "\t<dt>$Pericyte</dt>\n",
       "\t\t<dd>'/net/bmc-lab6/data/lab/kellis/users/benjames/scratch/miBrain/Pericyte.xlsx'</dd>\n",
       "</dl>\n"
      ],
      "text/latex": [
       "\\begin{description}\n",
       "\\item[\\$Astrocyte] '/net/bmc-lab6/data/lab/kellis/users/benjames/scratch/miBrain/Astrocyte.xlsx'\n",
       "\\item[\\$BMEC] '/net/bmc-lab6/data/lab/kellis/users/benjames/scratch/miBrain/BMEC.xlsx'\n",
       "\\item[\\$Microglia] '/net/bmc-lab6/data/lab/kellis/users/benjames/scratch/miBrain/Microglia.xlsx'\n",
       "\\item[\\$Neuron] '/net/bmc-lab6/data/lab/kellis/users/benjames/scratch/miBrain/Neuron.xlsx'\n",
       "\\item[\\$OPC] '/net/bmc-lab6/data/lab/kellis/users/benjames/scratch/miBrain/OPC.xlsx'\n",
       "\\item[\\$Pericyte] '/net/bmc-lab6/data/lab/kellis/users/benjames/scratch/miBrain/Pericyte.xlsx'\n",
       "\\end{description}\n"
      ],
      "text/markdown": [
       "$Astrocyte\n",
       ":   '/net/bmc-lab6/data/lab/kellis/users/benjames/scratch/miBrain/Astrocyte.xlsx'\n",
       "$BMEC\n",
       ":   '/net/bmc-lab6/data/lab/kellis/users/benjames/scratch/miBrain/BMEC.xlsx'\n",
       "$Microglia\n",
       ":   '/net/bmc-lab6/data/lab/kellis/users/benjames/scratch/miBrain/Microglia.xlsx'\n",
       "$Neuron\n",
       ":   '/net/bmc-lab6/data/lab/kellis/users/benjames/scratch/miBrain/Neuron.xlsx'\n",
       "$OPC\n",
       ":   '/net/bmc-lab6/data/lab/kellis/users/benjames/scratch/miBrain/OPC.xlsx'\n",
       "$Pericyte\n",
       ":   '/net/bmc-lab6/data/lab/kellis/users/benjames/scratch/miBrain/Pericyte.xlsx'\n",
       "\n",
       "\n"
      ],
      "text/plain": [
       "$Astrocyte\n",
       "[1] \"/net/bmc-lab6/data/lab/kellis/users/benjames/scratch/miBrain/Astrocyte.xlsx\"\n",
       "\n",
       "$BMEC\n",
       "[1] \"/net/bmc-lab6/data/lab/kellis/users/benjames/scratch/miBrain/BMEC.xlsx\"\n",
       "\n",
       "$Microglia\n",
       "[1] \"/net/bmc-lab6/data/lab/kellis/users/benjames/scratch/miBrain/Microglia.xlsx\"\n",
       "\n",
       "$Neuron\n",
       "[1] \"/net/bmc-lab6/data/lab/kellis/users/benjames/scratch/miBrain/Neuron.xlsx\"\n",
       "\n",
       "$OPC\n",
       "[1] \"/net/bmc-lab6/data/lab/kellis/users/benjames/scratch/miBrain/OPC.xlsx\"\n",
       "\n",
       "$Pericyte\n",
       "[1] \"/net/bmc-lab6/data/lab/kellis/users/benjames/scratch/miBrain/Pericyte.xlsx\"\n"
      ]
     },
     "metadata": {},
     "output_type": "display_data"
    }
   ],
   "source": [
    "if (!dir.exists(\"miBrain\")) { dir.create(\"miBrain\") }\n",
    "\n",
    "lapply(sel, function(obj) { \n",
    "    if (obj@metadata$comparison %in% c(\"Pericyte\", \"BMEC\")) {\n",
    "        ### lower depth, use LRT+lower CPM cutoff to allow for more hypotheses\n",
    "        deg_dump(obj, \"miBrain\", cpm.cutoff=10, method=\"LRT\") \n",
    "    } else {\n",
    "        deg_dump(obj, \"miBrain\") \n",
    "    }\n",
    "})"
   ]
  },
  {
   "cell_type": "code",
   "execution_count": null,
   "id": "1e44f53d-ec9c-4d14-969d-1f7d959b9bb4",
   "metadata": {},
   "outputs": [],
   "source": []
  }
 ],
 "metadata": {
  "kernelspec": {
   "display_name": "R",
   "language": "R",
   "name": "ir"
  },
  "language_info": {
   "codemirror_mode": "r",
   "file_extension": ".r",
   "mimetype": "text/x-r-source",
   "name": "R",
   "pygments_lexer": "r",
   "version": "4.2.2"
  }
 },
 "nbformat": 4,
 "nbformat_minor": 5
}
